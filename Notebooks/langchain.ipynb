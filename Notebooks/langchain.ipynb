{
 "cells": [
  {
   "cell_type": "code",
   "execution_count": null,
   "metadata": {},
   "outputs": [],
   "source": [
    "import os\n",
    "from dotenv import load_dotenv\n",
    "# load_dotenv()\n",
    "# api_key = os.getenv(\"GEMINI_API_KEY\")\n",
    "# api_key"
   ]
  },
  {
   "cell_type": "code",
   "execution_count": null,
   "metadata": {},
   "outputs": [],
   "source": [
    "from IPython.display import display, Markdown\n",
    "import textwrap\n",
    "def to_markdown(text):\n",
    "    display(Markdown(textwrap.dedent(text)))"
   ]
  },
  {
   "cell_type": "code",
   "execution_count": null,
   "metadata": {},
   "outputs": [],
   "source": [
    "from langchain_google_genai import GoogleGenerativeAI\n",
    "llm = GoogleGenerativeAI(model=\"gemini-pro\")\n",
    "name = llm(\"What is the meaning of life?\")\n",
    "print(name)"
   ]
  },
  {
   "cell_type": "code",
   "execution_count": null,
   "metadata": {},
   "outputs": [],
   "source": [
    "from langchain.prompts import PromptTemplate\n",
    "\n",
    "prompt = PromptTemplate(\n",
    "    input_variables=['cusine'],\n",
    "    template= \"I want to open a restaurant that serves {cusine} food. Give me a fancy headline of the restaurant.\"\n",
    ")\n",
    "prompt.format(cusine = 'Indian')"
   ]
  },
  {
   "cell_type": "code",
   "execution_count": null,
   "metadata": {},
   "outputs": [],
   "source": [
    "from langchain.chains import LLMChain\n",
    "headline_chain = LLMChain(llm=llm, prompt=prompt)\n",
    "headline_chain.run('Indian')"
   ]
  },
  {
   "cell_type": "code",
   "execution_count": null,
   "metadata": {},
   "outputs": [],
   "source": [
    "prompt = PromptTemplate(\n",
    "    input_variables=['headline'],\n",
    "    template= \"Suggest menu items for the restaurant with the headline: {headline}\"\n",
    ")\n",
    "menu_chain = LLMChain(llm=llm, prompt=prompt)\n",
    "to_markdown(menu_chain.run('The Saffron Palace: Culinary Delights from the Heart of India'))"
   ]
  },
  {
   "cell_type": "code",
   "execution_count": null,
   "metadata": {},
   "outputs": [],
   "source": [
    "from langchain.chains import SimpleSequentialChain\n",
    "#The output of the first chain will be the input to the second chain\n",
    "chain = SimpleSequentialChain(chains = [headline_chain, menu_chain])\n",
    "to_markdown(chain.run('Indian'))"
   ]
  },
  {
   "cell_type": "code",
   "execution_count": 47,
   "metadata": {},
   "outputs": [],
   "source": [
    "prompt_headline = PromptTemplate(\n",
    "    input_variables=['cusine'],\n",
    "    template= \"I want to open a restaurant that serves {cusine} food. Give me a fancy headline of the restaurant.\"\n",
    ")\n",
    "headline_chain = LLMChain(llm=llm, prompt=prompt_headline, output_key='headline')\n",
    "\n",
    "prompt_menu = PromptTemplate(\n",
    "    input_variables=['headline'],\n",
    "    template= \"Suggest little menu items for the restaurant with the headline: {headline}\"\n",
    ")\n",
    "menu_chain = LLMChain(llm=llm, prompt=prompt_menu, output_key='menu')"
   ]
  },
  {
   "cell_type": "code",
   "execution_count": null,
   "metadata": {},
   "outputs": [],
   "source": [
    "from langchain.chains import SequentialChain\n",
    "chain = SequentialChain(\n",
    "    chains = [headline_chain, menu_chain],\n",
    "    input_variables = ['cusine'],\n",
    "    output_variables = ['headline', 'menu']\n",
    ")\n",
    "print(chain('Indian')['menu'])"
   ]
  },
  {
   "cell_type": "code",
   "execution_count": 35,
   "metadata": {},
   "outputs": [
    {
     "name": "stdout",
     "output_type": "stream",
     "text": [
      "\n",
      "\n",
      "\u001b[1m> Entering new AgentExecutor chain...\u001b[0m\n",
      "\u001b[32;1m\u001b[1;3mI need to use the Pythagorean theorem to find the length of the other side.\n",
      "Action: Calculator\n",
      "Action Input: 5**2 - 3**2\u001b[0m\n",
      "Observation: \u001b[33;1m\u001b[1;3mAnswer: 16\u001b[0m\n",
      "Thought:\u001b[32;1m\u001b[1;3mI now know the final answer\n",
      "Final Answer: 4\u001b[0m\n",
      "\n",
      "\u001b[1m> Finished chain.\u001b[0m\n"
     ]
    },
    {
     "data": {
      "text/plain": [
       "'4'"
      ]
     },
     "execution_count": 35,
     "metadata": {},
     "output_type": "execute_result"
    }
   ],
   "source": [
    "from langchain.agents import AgentType, initialize_agent, load_tools\n",
    "tools = load_tools([\"wikipedia\", \"llm-math\"], llm=llm)\n",
    "agent = initialize_agent(\n",
    "    tools,\n",
    "    llm,\n",
    "    agent=AgentType.ZERO_SHOT_REACT_DESCRIPTION,\n",
    "    verbose=True\n",
    ")\n",
    "agent.run(\"In a right angled triangle, the length of the hypotenuse is 5 and the length of one of the sides is 3. What is the length of the other side?\")"
   ]
  },
  {
   "cell_type": "code",
   "execution_count": 48,
   "metadata": {},
   "outputs": [
    {
     "data": {
      "text/plain": [
       "'**Appetizers**\\n\\n* Samosas (Crispy pastries filled with spiced potatoes, onions, and peas)\\n* Pakoras (Vegetable fritters dipped in chickpea batter)\\n* Onion Bhajis (Onion rings coated in chickpea batter)\\n* Papadum (Thin, crispy lentil crackers)\\n\\n**Main Courses**\\n\\n* Butter Chicken (Tender chicken in a creamy tomato sauce)\\n* Tikka Masala (Chicken or paneer marinated in yogurt, spices, and grilled, then cooked in a creamy tomato sauce)\\n* Palak Paneer (Spinach and paneer cheese cooked in a creamy sauce)\\n* Chana Masala (Chickpeas cooked in a spiced tomato sauce)\\n\\n**Sides**\\n\\n* Dal Makhani (Black lentil soup)\\n* Jeera Rice (Rice cooked with cumin and ghee)\\n* Naan (Soft, fluffy flatbread)\\n* Raita (Cucumber and yogurt sauce)\\n\\n**Desserts**\\n\\n* Gulab Jamun (Sweet dumplings made from milk solids and flour, soaked in sugar syrup)\\n* Ras Malai (Sweet dumplings made from milk solids and flour, soaked in cream and flavored with cardamom)\\n* Kheer (Rice pudding)\\n* Kulfi (Frozen dessert made from milk, sugar, and spices)'"
      ]
     },
     "execution_count": 48,
     "metadata": {},
     "output_type": "execute_result"
    }
   ],
   "source": [
    "from langchain.memory import ConversationBufferMemory\n",
    "memory = ConversationBufferMemory()\n",
    "\n",
    "chain = LLMChain(llm=llm, prompt=prompt, memory=memory)\n",
    "chain.run('Indian')"
   ]
  },
  {
   "cell_type": "code",
   "execution_count": 49,
   "metadata": {},
   "outputs": [
    {
     "data": {
      "text/plain": [
       "'**Antipasti**\\n\\n* Caprese skewers with fresh mozzarella, tomatoes, and basil\\n* Bruschetta topped with roasted tomatoes, garlic, and basil\\n* Calamari fritti with marinara sauce\\n\\n**Insalate**\\n\\n* Caesar salad with romaine lettuce, croutons, Parmesan cheese, and Caesar dressing\\n* Caprese salad with fresh mozzarella, tomatoes, and basil\\n* Arugula salad with goat cheese, walnuts, and balsamic vinaigrette\\n\\n**Pasta**\\n\\n* Spaghetti alla carbonara with eggs, Parmesan cheese, and pancetta\\n* Lasagna with layers of pasta, meat sauce, and cheese\\n* Penne with vodka sauce and Italian sausage\\n\\n**Secondi**\\n\\n* Chicken Marsala with a savory Marsala wine sauce\\n* Salmon piccata with a lemon-butter sauce\\n* Veal parmigiana with melted mozzarella and marinara sauce\\n\\n**Contorni**\\n\\n* Roasted vegetables with olive oil and herbs\\n* Garlic bread with marinara sauce\\n* Mashed potatoes with butter and parsley\\n\\n**Dolci**\\n\\n* Tiramisu with espresso-soaked ladyfingers and mascarpone cream\\n* Cannoli with a sweet ricotta filling\\n* Chocolate lava cake with a warm, gooey center'"
      ]
     },
     "execution_count": 49,
     "metadata": {},
     "output_type": "execute_result"
    }
   ],
   "source": [
    "chain.run('Italian')"
   ]
  },
  {
   "cell_type": "code",
   "execution_count": 50,
   "metadata": {},
   "outputs": [
    {
     "name": "stdout",
     "output_type": "stream",
     "text": [
      "Human: Indian\n",
      "AI: **Appetizers**\n",
      "\n",
      "* Samosas (Crispy pastries filled with spiced potatoes, onions, and peas)\n",
      "* Pakoras (Vegetable fritters dipped in chickpea batter)\n",
      "* Onion Bhajis (Onion rings coated in chickpea batter)\n",
      "* Papadum (Thin, crispy lentil crackers)\n",
      "\n",
      "**Main Courses**\n",
      "\n",
      "* Butter Chicken (Tender chicken in a creamy tomato sauce)\n",
      "* Tikka Masala (Chicken or paneer marinated in yogurt, spices, and grilled, then cooked in a creamy tomato sauce)\n",
      "* Palak Paneer (Spinach and paneer cheese cooked in a creamy sauce)\n",
      "* Chana Masala (Chickpeas cooked in a spiced tomato sauce)\n",
      "\n",
      "**Sides**\n",
      "\n",
      "* Dal Makhani (Black lentil soup)\n",
      "* Jeera Rice (Rice cooked with cumin and ghee)\n",
      "* Naan (Soft, fluffy flatbread)\n",
      "* Raita (Cucumber and yogurt sauce)\n",
      "\n",
      "**Desserts**\n",
      "\n",
      "* Gulab Jamun (Sweet dumplings made from milk solids and flour, soaked in sugar syrup)\n",
      "* Ras Malai (Sweet dumplings made from milk solids and flour, soaked in cream and flavored with cardamom)\n",
      "* Kheer (Rice pudding)\n",
      "* Kulfi (Frozen dessert made from milk, sugar, and spices)\n",
      "Human: Italian\n",
      "AI: **Antipasti**\n",
      "\n",
      "* Caprese skewers with fresh mozzarella, tomatoes, and basil\n",
      "* Bruschetta topped with roasted tomatoes, garlic, and basil\n",
      "* Calamari fritti with marinara sauce\n",
      "\n",
      "**Insalate**\n",
      "\n",
      "* Caesar salad with romaine lettuce, croutons, Parmesan cheese, and Caesar dressing\n",
      "* Caprese salad with fresh mozzarella, tomatoes, and basil\n",
      "* Arugula salad with goat cheese, walnuts, and balsamic vinaigrette\n",
      "\n",
      "**Pasta**\n",
      "\n",
      "* Spaghetti alla carbonara with eggs, Parmesan cheese, and pancetta\n",
      "* Lasagna with layers of pasta, meat sauce, and cheese\n",
      "* Penne with vodka sauce and Italian sausage\n",
      "\n",
      "**Secondi**\n",
      "\n",
      "* Chicken Marsala with a savory Marsala wine sauce\n",
      "* Salmon piccata with a lemon-butter sauce\n",
      "* Veal parmigiana with melted mozzarella and marinara sauce\n",
      "\n",
      "**Contorni**\n",
      "\n",
      "* Roasted vegetables with olive oil and herbs\n",
      "* Garlic bread with marinara sauce\n",
      "* Mashed potatoes with butter and parsley\n",
      "\n",
      "**Dolci**\n",
      "\n",
      "* Tiramisu with espresso-soaked ladyfingers and mascarpone cream\n",
      "* Cannoli with a sweet ricotta filling\n",
      "* Chocolate lava cake with a warm, gooey center\n"
     ]
    }
   ],
   "source": [
    "print(chain.memory.buffer)"
   ]
  },
  {
   "cell_type": "code",
   "execution_count": 55,
   "metadata": {},
   "outputs": [
    {
     "name": "stdout",
     "output_type": "stream",
     "text": [
      "Hello there! How can I assist you today?\n"
     ]
    }
   ],
   "source": [
    "from langchain.chains import ConversationChain\n",
    "convo = ConversationChain(llm=llm)\n",
    "print(convo.run('Hi'))"
   ]
  },
  {
   "cell_type": "code",
   "execution_count": 56,
   "metadata": {},
   "outputs": [
    {
     "data": {
      "text/plain": [
       "'Sure, I can help you with that.\\n \\nAccording to the International Cricket Council, the greatest cricketer from the 20th century is Sir Garfield Sobers. He was a West Indian all-rounder who played from 1954 to 1974. Sobers was a gifted batsman, bowler, and fielder. He is widely regarded as one of the greatest all-rounders of all time. \\n\\nSobers played in 93 Test matches for the West Indies, scoring 8,032 runs at an average of 57.78. He also took 235 wickets at an average of 34.03. In addition to his Test career, Sobers also played in 160 One-Day Internationals, scoring 2,648 runs at an average of 41.47.\\n\\nSobers was inducted into the ICC Cricket Hall of Fame in 2009. He is also a member of the West Indies Cricket Hall of Fame.'"
      ]
     },
     "execution_count": 56,
     "metadata": {},
     "output_type": "execute_result"
    }
   ],
   "source": [
    "convo.run('Who is the greates cricketer from the 20th century?')"
   ]
  },
  {
   "cell_type": "code",
   "execution_count": 59,
   "metadata": {},
   "outputs": [
    {
     "name": "stdout",
     "output_type": "stream",
     "text": [
      "Human: Hi\n",
      "AI: Hello there! How can I assist you today?\n",
      "Human: Who is the greates cricketer from the 20th century?\n",
      "AI: Sure, I can help you with that.\n",
      " \n",
      "According to the International Cricket Council, the greatest cricketer from the 20th century is Sir Garfield Sobers. He was a West Indian all-rounder who played from 1954 to 1974. Sobers was a gifted batsman, bowler, and fielder. He is widely regarded as one of the greatest all-rounders of all time. \n",
      "\n",
      "Sobers played in 93 Test matches for the West Indies, scoring 8,032 runs at an average of 57.78. He also took 235 wickets at an average of 34.03. In addition to his Test career, Sobers also played in 160 One-Day Internationals, scoring 2,648 runs at an average of 41.47.\n",
      "\n",
      "Sobers was inducted into the ICC Cricket Hall of Fame in 2009. He is also a member of the West Indies Cricket Hall of Fame.\n"
     ]
    }
   ],
   "source": [
    "print(convo.memory.buffer)"
   ]
  },
  {
   "cell_type": "code",
   "execution_count": 68,
   "metadata": {},
   "outputs": [
    {
     "name": "stdout",
     "output_type": "stream",
     "text": [
      "West Indies\n"
     ]
    }
   ],
   "source": [
    "from langchain.memory import ConversationBufferWindowMemory\n",
    "memory = ConversationBufferWindowMemory(k=5)\n",
    " \n",
    "convo = ConversationChain(llm=llm, memory=memory)\n",
    "print(convo.run('Who won the first cricket world cup?'))"
   ]
  },
  {
   "cell_type": "code",
   "execution_count": 69,
   "metadata": {},
   "outputs": [
    {
     "data": {
      "text/plain": [
       "'There is no consensus on who is the best cricketer in the world. However, some of the players who are often considered to be among the best include Virat Kohli, Steve Smith, Kane Williamson, and Joe Root.'"
      ]
     },
     "execution_count": 69,
     "metadata": {},
     "output_type": "execute_result"
    }
   ],
   "source": [
    "convo.run('Who is the best cricketer in the world?')"
   ]
  },
  {
   "cell_type": "code",
   "execution_count": 70,
   "metadata": {},
   "outputs": [
    {
     "data": {
      "text/plain": [
       "'The first Cricket World Cup took place from May 30 to June 25, 1975.'"
      ]
     },
     "execution_count": 70,
     "metadata": {},
     "output_type": "execute_result"
    }
   ],
   "source": [
    "convo.run('When did that cricket world cup take place?')"
   ]
  },
  {
   "cell_type": "code",
   "execution_count": 71,
   "metadata": {},
   "outputs": [
    {
     "data": {
      "text/plain": [
       "'West Indies'"
      ]
     },
     "execution_count": 71,
     "metadata": {},
     "output_type": "execute_result"
    }
   ],
   "source": [
    "convo.run('Who won the second one')"
   ]
  }
 ],
 "metadata": {
  "kernelspec": {
   "display_name": "def_env",
   "language": "python",
   "name": "python3"
  },
  "language_info": {
   "codemirror_mode": {
    "name": "ipython",
    "version": 3
   },
   "file_extension": ".py",
   "mimetype": "text/x-python",
   "name": "python",
   "nbconvert_exporter": "python",
   "pygments_lexer": "ipython3",
   "version": "3.10.14"
  }
 },
 "nbformat": 4,
 "nbformat_minor": 2
}
